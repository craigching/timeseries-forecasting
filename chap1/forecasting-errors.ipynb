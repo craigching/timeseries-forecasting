{
 "cells": [
  {
   "cell_type": "markdown",
   "id": "stock-enterprise",
   "metadata": {
    "slideshow": {
     "slide_type": "slide"
    }
   },
   "source": [
    "We evaluate forecasting model performance using the one-step-ahead forecast errors\n",
    "<br/>\n",
    "<br/>\n",
    "\n",
    "$$\n",
    "e_t(1) = y_t - \\hat{y}_t(t - 1)\n",
    "$$\n",
    "\n",
    "<br/>\n",
    "<br/>\n",
    "where $\\hat{y}_t(t - 1)$ is the forecast of y that was made one period prior.\n"
   ]
  },
  {
   "cell_type": "markdown",
   "id": "hazardous-chile",
   "metadata": {
    "slideshow": {
     "slide_type": "slide"
    }
   },
   "source": [
    "If there are $n$ observations for which forecasts have been made and $n$ one step-ahead forecast errors $e_t(1), t = 1, 2, ..., n$. Standard measures of forecast accuracy are the **mean error**:\n",
    "\n",
    "$$\n",
    "ME = \\frac{1}{n} \\sum\\limits_{t = 1}^n e_t(1)\n",
    "$$\n",
    "\n",
    "The **mean absolute deviation**\n",
    "\n",
    "$$\n",
    "MAD = \\frac{1}{n} \\sum\\limits_{t = 1}^n | e_t(1) |\n",
    "$$\n",
    "\n",
    "and the **mean squared error**\n",
    "\n",
    "$$\n",
    "MSE = \\frac{1}{n} \\sum\\limits_{t = 1}^n [ e_t(1) ]^2\n",
    "$$\n"
   ]
  },
  {
   "cell_type": "markdown",
   "id": "basic-vienna",
   "metadata": {
    "slideshow": {
     "slide_type": "slide"
    }
   },
   "source": [
    "These measures are all scale-dependent measures of forecast accuracy; their values are expressed in terms of the original units of measurement (squared units in the case of MSE).\n",
    "\n",
    "Because of this, it can be hard to interpret the errors when comparing to other time series or time periods.\n"
   ]
  },
  {
   "cell_type": "markdown",
   "id": "quantitative-fellow",
   "metadata": {
    "slideshow": {
     "slide_type": "slide"
    }
   },
   "source": [
    "In order to enable these sorts of comparisons, we define a measure of **relative forecast error** (in percent) as\n",
    "\n",
    "$$\n",
    "re_t(1) = \\Big( \\frac{y_t - \\hat{y}_t(t - 1)}{y_t} \\Big) 100 = \\Big( \\frac{e_t(1)}{y_t} \\Big) 100\n",
    "$$\n",
    "\n",
    "This is called the **percent forecast error**. The mean percent forecast error (MPE) is\n",
    "\n",
    "$$\n",
    "MPE = \\frac{1}{n} \\sum\\limits_{t = 1}^n re_t(1)\n",
    "$$\n",
    "\n",
    "and the mean absolute percent forecast error (MAPE) is\n",
    "\n",
    "$$\n",
    "MAPE = \\frac{1}{n} \\sum\\limits_{t = 1}^n | re_t(1) |\n",
    "$$\n"
   ]
  }
 ],
 "metadata": {
  "celltoolbar": "Slideshow",
  "kernelspec": {
   "display_name": "Python 3",
   "language": "python",
   "name": "python3"
  },
  "language_info": {
   "codemirror_mode": {
    "name": "ipython",
    "version": 3
   },
   "file_extension": ".py",
   "mimetype": "text/x-python",
   "name": "python",
   "nbconvert_exporter": "python",
   "pygments_lexer": "ipython3",
   "version": "3.9.1"
  }
 },
 "nbformat": 4,
 "nbformat_minor": 5
}

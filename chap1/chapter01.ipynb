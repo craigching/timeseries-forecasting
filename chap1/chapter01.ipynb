{
 "cells": [
  {
   "cell_type": "markdown",
   "id": "precious-blanket",
   "metadata": {},
   "source": [
    "# Introduction To Forecasting"
   ]
  },
  {
   "cell_type": "markdown",
   "id": "binary-seventh",
   "metadata": {},
   "source": [
    "A **forecast** is a prediction of some future event or events. Most forecasting problems involve the use of time series data. A **time series** is a time-oriented or chronological sequence of observations. A well understood example of a time series is a stock price."
   ]
  },
  {
   "cell_type": "markdown",
   "id": "higher-vehicle",
   "metadata": {},
   "source": [
    "Forecasting problems are classified as\n",
    "- Short Term (predicting days, weeks, months into the future)\n",
    "- Medium Term (predicting 1 to 2 years into the future)\n",
    "- Long Term (can extend many years beyond)"
   ]
  },
  {
   "cell_type": "markdown",
   "id": "radical-senator",
   "metadata": {},
   "source": [
    "Long-term forecasts impact issues such as strategic planning. Short- and medium-term forecasting is typically based on identifying, modeling, and extrapolating the patterns found in historical data. Because these historical data usually exhibit inertia and do not change dr\n",
    "amatically very quickly, statistical methods are very useful for short- and medium-term forecasting. We are concerned with these statistical methods."
   ]
  },
  {
   "cell_type": "markdown",
   "id": "sustained-backing",
   "metadata": {},
   "source": []
  }
 ],
 "metadata": {
  "kernelspec": {
   "display_name": "Python 3",
   "language": "python",
   "name": "python3"
  },
  "language_info": {
   "codemirror_mode": {
    "name": "ipython",
    "version": 3
   },
   "file_extension": ".py",
   "mimetype": "text/x-python",
   "name": "python",
   "nbconvert_exporter": "python",
   "pygments_lexer": "ipython3",
   "version": "3.9.1"
  }
 },
 "nbformat": 4,
 "nbformat_minor": 5
}
